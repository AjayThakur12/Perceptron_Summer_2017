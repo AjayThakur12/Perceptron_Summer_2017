{
 "cells": [
  {
   "cell_type": "code",
   "execution_count": 42,
   "metadata": {
    "collapsed": true
   },
   "outputs": [],
   "source": [
    "import numpy as np\n",
    "from matplotlib import pyplot as plt\n",
    "%matplotlib inline\n",
    "import re\n",
    "import spacy"
   ]
  },
  {
   "cell_type": "code",
   "execution_count": 97,
   "metadata": {
    "collapsed": true
   },
   "outputs": [],
   "source": [
    "f = open('../data/movie_review/rt-polarity.neg')\n",
    "ds = f.read()\n",
    "f.close()"
   ]
  },
  {
   "cell_type": "code",
   "execution_count": 98,
   "metadata": {
    "collapsed": false
   },
   "outputs": [
    {
     "name": "stdout",
     "output_type": "stream",
     "text": [
      "5331\n"
     ]
    }
   ],
   "source": [
    "ds = ds.lower()\n",
    "data = re.sub('[^a-z 0-9\\n \\'-/]+', '', ds)\n",
    "data = re.sub('[- .]+', ' ', data)\n",
    "text = data.split('\\n')[:-1]\n",
    "print len(text)\n",
    "#for ix in range(10)"
   ]
  },
  {
   "cell_type": "code",
   "execution_count": 55,
   "metadata": {
    "collapsed": true
   },
   "outputs": [],
   "source": [
    "word_vec = spacy.load('en', vectors='glove.6B.300d.txt')"
   ]
  },
  {
   "cell_type": "code",
   "execution_count": 101,
   "metadata": {
    "collapsed": false
   },
   "outputs": [
    {
     "name": "stdout",
     "output_type": "stream",
     "text": [
      "a sentimental mess that never rings true \n"
     ]
    }
   ],
   "source": [
    "q = word_vec(unicode(text[10]))\n",
    "print q\n",
    "#for ix in q:\n",
    "#    print ix, ix.vector.mean()"
   ]
  },
  {
   "cell_type": "code",
   "execution_count": 102,
   "metadata": {
    "collapsed": false
   },
   "outputs": [],
   "source": [
    "l = []\n",
    "\n",
    "for ix in text:\n",
    "    l.append(len(word_vec(unicode(ix))))"
   ]
  },
  {
   "cell_type": "code",
   "execution_count": null,
   "metadata": {
    "collapsed": false
   },
   "outputs": [],
   "source": []
  },
  {
   "cell_type": "code",
   "execution_count": 103,
   "metadata": {
    "collapsed": false
   },
   "outputs": [
    {
     "data": {
      "text/plain": [
       "[<matplotlib.lines.Line2D at 0x7f06cdb540d0>]"
      ]
     },
     "execution_count": 103,
     "metadata": {},
     "output_type": "execute_result"
    },
    {
     "data": {
      "image/png": "[encoded data removed]",
      "text/plain": [
       "<matplotlib.figure.Figure at 0x7f06cdecc1d0>"
      ]
     },
     "metadata": {},
     "output_type": "display_data"
    }
   ],
   "source": [
    "d = np.unique(l, return_counts=True)\n",
    "\n",
    "plt.plot(d[0], d[1])"
   ]
  },
  {
   "cell_type": "code",
   "execution_count": 104,
   "metadata": {
    "collapsed": false
   },
   "outputs": [
    {
     "name": "stdout",
     "output_type": "stream",
     "text": [
      "4079\n"
     ]
    }
   ],
   "source": [
    "s = 0\n",
    "lower_limit = 10\n",
    "upper_limit = 35\n",
    "for ix in range(len(d[0])):\n",
    "    sl = d[0][ix]\n",
    "    if sl > lower_limit and sl < upper_limit:\n",
    "        s += d[1][ix]\n",
    "print s"
   ]
  },
  {
   "cell_type": "code",
   "execution_count": 89,
   "metadata": {
    "collapsed": true
   },
   "outputs": [],
   "source": [
    "def sequence_to_mat(seq):\n",
    "    vec_seq = word_vec(unicode(seq))\n",
    "    if len(vec_seq) > lower_limit and len(vec_seq) < upper_limit:\n",
    "        m = np.ones((upper_limit-1, 300))*5.0\n",
    "        \n",
    "        for ix in range(len(vec_seq)):\n",
    "            m[ix, :] = vec_seq[ix].vector\n",
    "        return m\n",
    "    else:\n",
    "        return None"
   ]
  },
  {
   "cell_type": "code",
   "execution_count": 105,
   "metadata": {
    "collapsed": false
   },
   "outputs": [],
   "source": [
    "mat = []\n",
    "\n",
    "for ix in text:\n",
    "    seq_mat = sequence_to_mat(ix)\n",
    "    \n",
    "    if seq_mat is not None:\n",
    "        mat.append(seq_mat)"
   ]
  },
  {
   "cell_type": "code",
   "execution_count": 106,
   "metadata": {
    "collapsed": false
   },
   "outputs": [
    {
     "name": "stdout",
     "output_type": "stream",
     "text": [
      "(4079, 34, 300)\n"
     ]
    }
   ],
   "source": [
    "mat = np.asarray(mat)\n",
    "print mat.shape\n",
    "\n",
    "# np.save('../data/movie_review/negative', mat)"
   ]
  }
 ],
 "metadata": {
  "kernelspec": {
   "display_name": "Python 2",
   "language": "python",
   "name": "python2"
  },
  "language_info": {
   "codemirror_mode": {
    "name": "ipython",
    "version": 2
   },
   "file_extension": ".py",
   "mimetype": "text/x-python",
   "name": "python",
   "nbconvert_exporter": "python",
   "pygments_lexer": "ipython2",
   "version": "2.7.12"
  }
 },
 "nbformat": 4,
 "nbformat_minor": 2
}
